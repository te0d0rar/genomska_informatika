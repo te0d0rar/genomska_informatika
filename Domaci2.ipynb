{
  "nbformat": 4,
  "nbformat_minor": 0,
  "metadata": {
    "colab": {
      "provenance": []
    },
    "kernelspec": {
      "name": "python3",
      "display_name": "Python 3"
    },
    "language_info": {
      "name": "python"
    }
  },
  "cells": [
    {
      "cell_type": "markdown",
      "source": [
        "# Domaći zadatak 2: Genomska Informatika\n",
        "\n",
        "### Teodora Radaljac 3098/2023"
      ],
      "metadata": {
        "id": "bFYsReOyuLFO"
      }
    },
    {
      "cell_type": "markdown",
      "source": [
        "Instaliranje **pysam** biblioteke"
      ],
      "metadata": {
        "id": "xelCt57xs9sB"
      }
    },
    {
      "cell_type": "code",
      "execution_count": 26,
      "metadata": {
        "colab": {
          "base_uri": "https://localhost:8080/"
        },
        "id": "ffdy95TkCd9T",
        "outputId": "95a2bee8-bf6f-4a79-9198-1f0d8e629756"
      },
      "outputs": [
        {
          "output_type": "stream",
          "name": "stdout",
          "text": [
            "Requirement already satisfied: pysam in /usr/local/lib/python3.10/dist-packages (0.22.0)\n"
          ]
        }
      ],
      "source": [
        "pip install pysam"
      ]
    },
    {
      "cell_type": "code",
      "source": [
        "import pysam"
      ],
      "metadata": {
        "id": "EFzzjo6yDJce"
      },
      "execution_count": 27,
      "outputs": []
    },
    {
      "cell_type": "code",
      "source": [
        "path_to_file = 'merged-tumor.bam'\n",
        "\n",
        "# creating an alignment file for merged-tumor.bam\n",
        "bamfile = pysam.AlignmentFile(path_to_file, 'rb')"
      ],
      "metadata": {
        "id": "MU4tZ8HGDSlJ"
      },
      "execution_count": 28,
      "outputs": []
    },
    {
      "cell_type": "code",
      "source": [
        "# taking the first read\n",
        "first_read = next(bamfile)\n",
        "\n",
        "print(first_read)\n",
        "print(first_read.flag)"
      ],
      "metadata": {
        "colab": {
          "base_uri": "https://localhost:8080/"
        },
        "id": "P4HKlPQHQMy6",
        "outputId": "b15593d9-4998-4cab-f4a4-f88b7e011afa"
      },
      "execution_count": 29,
      "outputs": [
        {
          "output_type": "stream",
          "name": "stdout",
          "text": [
            "C0HVYACXX120402:7:1207:5722:57044\t1187\t#20\t9483249\t27\t76M\t#20\t9483382\t209\tTTTTCAAACAGTATCTATGCCTGCCAAATGTGAACATATAAAAAAAAACCAGAATGTGCCATTCTGATTTAAACTG\tarray('B', [28, 28, 27, 29, 31, 30, 31, 31, 29, 31, 35, 30, 29, 31, 34, 30, 29, 23, 41, 32, 20, 30, 29, 34, 34, 29, 30, 31, 30, 30, 30, 33, 33, 26, 39, 12, 25, 19, 32, 30, 35, 28, 35, 33, 23, 33, 35, 36, 30, 38, 33, 41, 34, 35, 31, 33, 23, 30, 30, 36, 27, 32, 29, 34, 35, 41, 33, 31, 33, 29, 32, 32, 31, 31, 31, 34])\t[('XA', 'GL000217.1,-110754,76M,1;'), ('BD', 'NNNNNNNNNNNNNNNNNNNNNNNNNNNNNNNNNNNNNNNNNNNNNNNNNNNNNNNNNNNNNNNNNNNNNNNNNNNN'), ('MD', '76'), ('RG', '1'), ('BI', 'NNNNNNNNNNNNNNNNNNNNNNNNNNNNNNNNNNNNNNNNNNNNNNNNNNNNNNNNNNNNNNNNNNNNNNNNNNNN'), ('NM', 0), ('MQ', 27), ('AS', 76), ('XS', 71)]\n",
            "1187\n"
          ]
        }
      ]
    },
    {
      "cell_type": "markdown",
      "source": [
        "Ispisom first read-a možemo videti vrednosti polja u njemu.\n",
        "\n",
        "Redom:\n",
        "> Query name: C0HVYACXX120402:7:1207:5722:57044\n",
        "\n",
        "\n",
        "> Bitwise flag: 1187\n",
        "\n",
        "> Reference sequence name: #20\n",
        "\n",
        "> POS (starting position of the alignment in the reference sequence): 9483249\n",
        "\n",
        "> MAPping Quality: 27\n",
        "\n",
        "> CIGAR string (how the read aligns to the reference): 76M\n",
        "\n",
        "> Reference name of the mate/next read: #20\n",
        "\n",
        "> Position of the mate/next read: 9483382\n",
        "\n",
        "> Template length: 209\n",
        "\n",
        "> Segment sequence: TTTTCAAACAGTATCTATGCCTGCCAAATGTGAACATATAAAAAAAAACCAGAATGTGCCATTCTGATTTAAACTG\n",
        "\n",
        "> Quality scores: niz sa puno elemenata\n",
        "\n",
        "Takodje možemo proveriti i koji su flag-ovi aktivni a koji ne.\n",
        "\n",
        "Aktivni:\n",
        "\n",
        ">   read paired\n",
        "  \n",
        ">  read mapped in proper pair\n",
        "\n",
        ">  mate reverse strand\n",
        "\n",
        ">  second in pair\n",
        "\n",
        ">  read is PCR or optical duplicate\n",
        "\n",
        "Neaktivni:\n",
        "\n",
        ">   read unmapped\n",
        "  \n",
        "> mate unmapped\n",
        "\n",
        ">   read reverse strand\n",
        "\n",
        "> first in pair\n",
        "\n",
        "> not primary alignment\n",
        "\n",
        ">   read fails platform/vendor quality checks\n",
        "\n",
        "> supplementary alignment"
      ],
      "metadata": {
        "id": "mbOFGutjXtFh"
      }
    },
    {
      "cell_type": "code",
      "source": [
        "total_reads = 0\n",
        "unmapped_reads = 0\n",
        "reads_quality_zero = 0\n",
        "total_quality = 0"
      ],
      "metadata": {
        "id": "Z0nmqeniqOQu"
      },
      "execution_count": 30,
      "outputs": []
    },
    {
      "cell_type": "markdown",
      "source": [
        "Prolazak kroz sve read-ove i prebrojavanje i izračunavanje odgovarajućih karakteristika."
      ],
      "metadata": {
        "id": "YuUR_aljtPDN"
      }
    },
    {
      "cell_type": "code",
      "source": [
        "bamfile = pysam.AlignmentFile(path_to_file, 'rb')\n",
        "\n",
        "for read in bamfile:\n",
        "    total_reads += 1\n",
        "    if read.is_unmapped:\n",
        "        unmapped_reads += 1\n",
        "    if read.mapping_quality == 0:\n",
        "        reads_quality_zero += 1\n",
        "    total_quality += read.mapping_quality\n",
        "\n",
        "average_quality = total_quality / total_reads if total_reads else 0\n",
        "average_quality_excluding_zero = (total_quality - reads_quality_zero) / (total_reads - reads_quality_zero) if (total_reads - reads_quality_zero) else 0"
      ],
      "metadata": {
        "id": "Fr5D1zCJscZq"
      },
      "execution_count": 31,
      "outputs": []
    },
    {
      "cell_type": "markdown",
      "source": [
        "Ispis traženih vrednosti."
      ],
      "metadata": {
        "id": "XeXcBjb-t1_6"
      }
    },
    {
      "cell_type": "code",
      "source": [
        "print(\"Total reads: \", total_reads)\n",
        "print(\"Unmapped reads: \", unmapped_reads)\n",
        "print(\"Reads with quality 0: \", reads_quality_zero)\n",
        "print(\"Average mapping quality for all reads: \", average_quality)\n",
        "print(\"Average mapping quality excluding reads with quality 0: \", average_quality_excluding_zero)\n"
      ],
      "metadata": {
        "colab": {
          "base_uri": "https://localhost:8080/"
        },
        "id": "DiJHtny0tkgB",
        "outputId": "0e8a4006-92e6-4c6f-9763-79539c0fd93a"
      },
      "execution_count": 32,
      "outputs": [
        {
          "output_type": "stream",
          "name": "stdout",
          "text": [
            "Total reads:  2921629\n",
            "Unmapped reads:  17765\n",
            "Reads with quality 0:  126628\n",
            "Average mapping quality for all reads:  55.91379158681681\n",
            "Average mapping quality excluding reads with quality 0:  58.40167033929505\n"
          ]
        }
      ]
    },
    {
      "cell_type": "code",
      "source": [
        "bamfile.close()"
      ],
      "metadata": {
        "id": "3KUXzjhruHwp"
      },
      "execution_count": 33,
      "outputs": []
    }
  ]
}